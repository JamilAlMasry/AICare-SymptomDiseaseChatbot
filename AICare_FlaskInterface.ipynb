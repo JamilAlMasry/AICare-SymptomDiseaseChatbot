{
  "cells": [
    {
      "cell_type": "markdown",
      "metadata": {
        "id": "view-in-github",
        "colab_type": "text"
      },
      "source": [
        "<a href=\"https://colab.research.google.com/github/JamilAlMasry/AICare-SymptomDiseaseChatbot/blob/main/AICare_FlaskInterface.ipynb\" target=\"_parent\"><img src=\"https://colab.research.google.com/assets/colab-badge.svg\" alt=\"Open In Colab\"/></a>"
      ]
    },
    {
      "cell_type": "code",
      "execution_count": 1,
      "metadata": {
        "colab": {
          "base_uri": "https://localhost:8080/"
        },
        "id": "XjuC2ExHxwz1",
        "outputId": "7b67114b-1bc1-4edb-a7a0-2bc1bbc90c73"
      },
      "outputs": [
        {
          "output_type": "stream",
          "name": "stdout",
          "text": [
            "Mounted at /content/drive\n"
          ]
        }
      ],
      "source": [
        "from google.colab import drive\n",
        "import pandas as pd\n",
        "\n",
        "# Mount Google Drive\n",
        "drive.mount('/content/drive')"
      ]
    },
    {
      "cell_type": "code",
      "execution_count": null,
      "metadata": {
        "colab": {
          "base_uri": "https://localhost:8080/"
        },
        "id": "emny-c7N4Sd2",
        "outputId": "743e89c8-25ff-4131-a41a-34c23a3d72b2"
      },
      "outputs": [
        {
          "name": "stdout",
          "output_type": "stream",
          "text": [
            "Requirement already satisfied: flask in /usr/local/lib/python3.10/dist-packages (2.2.5)\n",
            "Requirement already satisfied: Werkzeug>=2.2.2 in /usr/local/lib/python3.10/dist-packages (from flask) (3.0.1)\n",
            "Requirement already satisfied: Jinja2>=3.0 in /usr/local/lib/python3.10/dist-packages (from flask) (3.1.3)\n",
            "Requirement already satisfied: itsdangerous>=2.0 in /usr/local/lib/python3.10/dist-packages (from flask) (2.1.2)\n",
            "Requirement already satisfied: click>=8.0 in /usr/local/lib/python3.10/dist-packages (from flask) (8.1.7)\n",
            "Requirement already satisfied: MarkupSafe>=2.0 in /usr/local/lib/python3.10/dist-packages (from Jinja2>=3.0->flask) (2.1.5)\n"
          ]
        }
      ],
      "source": [
        "!pip install flask"
      ]
    },
    {
      "cell_type": "code",
      "execution_count": null,
      "metadata": {
        "id": "RXtZSa314Vl-"
      },
      "outputs": [],
      "source": []
    },
    {
      "cell_type": "code",
      "execution_count": 3,
      "metadata": {
        "colab": {
          "base_uri": "https://localhost:8080/"
        },
        "id": "SuhqmyGk0f4P",
        "outputId": "d7235c21-3217-47ef-eb9f-5a80018a71d7"
      },
      "outputs": [
        {
          "output_type": "stream",
          "name": "stdout",
          "text": [
            "Model Loaded Successfully\n",
            "Label Loaded Successfully\n",
            "{0: '(Vertigo) Paroymsal Positional Vertigo', 1: 'Acne', 2: 'Aids', 3: 'Alcoholic Hepatitis', 4: 'Allergy', 5: 'Arthritis', 6: 'Bronchial Asthma', 7: 'Cervical Spondylosis', 8: 'Chicken Pox', 9: 'Chronic Cholestasis', 10: 'Common Cold', 11: 'Dengue', 12: 'Diabetes', 13: 'Diabetes', 14: 'Dimorphic Hemmorhoids(Piles)', 15: 'Dimorphic Hemorrhoids', 16: 'Drug Reaction', 17: 'Fungal Infection', 18: 'Gastroenteritis', 19: 'Gastroesophageal Reflux Disease', 20: 'Gerd', 21: 'Heart Attack', 22: 'Hepatitis A', 23: 'Hepatitis B', 24: 'Hepatitis C', 25: 'Hepatitis D', 26: 'Hepatitis E', 27: 'Hypertension', 28: 'Hypertension', 29: 'Hyperthyroidism', 30: 'Hypoglycemia', 31: 'Hypothyroidism', 32: 'Impetigo', 33: 'Jaundice', 34: 'Malaria', 35: 'Migraine', 36: 'Osteoarthristis', 37: 'Paralysis (Brain Hemorrhage)', 38: 'Peptic Ulcer Disease', 39: 'Peptic Ulcer Disease', 40: 'Pneumonia', 41: 'Psoriasis', 42: 'Tuberculosis', 43: 'Typhoid', 44: 'Urinary Tract Infection', 45: 'Varicose Veins'}\n",
            "Ready to Run the App\n"
          ]
        }
      ],
      "source": [
        "from tensorflow.keras.models import load_model\n",
        "import tensorflow as tf\n",
        "from flask import Flask, render_template, request, jsonify\n",
        "import numpy as np\n",
        "import json\n",
        "import tensorflow_hub as hub\n",
        "from tensorflow.keras.utils import custom_object_scope\n",
        "import keras\n",
        "\n",
        "\n",
        "model_path = \"/content/drive/My Drive/model_USE.h5\"\n",
        "\n",
        "\n",
        "\n",
        "\n",
        "\n",
        "custom_objects={'KerasLayer':hub.KerasLayer}\n",
        "\n",
        "with keras.saving.custom_object_scope(custom_objects):\n",
        "    reconstructed_model = keras.models.load_model(model_path)\n",
        "print(\"Model Loaded Successfully\")\n",
        "\n",
        "with open('/content/drive/My Drive/label_mapping.json', 'r') as f:\n",
        "    label_mapping = json.load(f)\n",
        "\n",
        "# Invert the mapping to create category_reverse_mapping\n",
        "category_reverse_mapping = {int(k): v for k, v in label_mapping.items()}\n",
        "print(\"Label Loaded Successfully\")\n",
        "print(category_reverse_mapping)\n",
        "\n",
        "def predict_on_sentence(model, sentence, category_reverse_mapping, top_n=1):\n",
        "\n",
        "    pred_prob = model.predict([sentence])\n",
        "    pred_label = np.round(pred_prob).astype(int)[0]\n",
        "\n",
        "\n",
        "    top_indices = np.argsort(pred_prob[0])[::-1][:top_n]\n",
        "\n",
        "\n",
        "    top_labels_str = [category_reverse_mapping[i] for i in top_indices]\n",
        "    top_probs_str = [pred_prob[0][i] for i in top_indices]\n",
        "\n",
        "\n",
        "    predictions = []\n",
        "    for label, prob in zip(top_labels_str, top_probs_str):\n",
        "        predictions.append({\"disease\": label, \"probability\": prob * 100})\n",
        "\n",
        "    return predictions\n",
        "print(\"Ready to Run the App\")"
      ]
    },
    {
      "cell_type": "code",
      "execution_count": 4,
      "metadata": {
        "colab": {
          "base_uri": "https://localhost:8080/",
          "height": 35
        },
        "id": "fsUbvjkjAOMI",
        "outputId": "24250ec7-5ccc-4ada-eae8-7c350fb2ace5"
      },
      "outputs": [
        {
          "output_type": "stream",
          "name": "stdout",
          "text": [
            "https://9ysaq27simu-496ff2e9c6d22116-5000-colab.googleusercontent.com/\n"
          ]
        }
      ],
      "source": [
        "from google.colab.output import eval_js\n",
        "print(eval_js(\"google.colab.kernel.proxyPort(5000)\"))\n",
        "#This is used to be able to open flask through google colab. Run this cell, then run the below cell, then open the direct below link.\n",
        "# Don't forget to change the file path of the model, json file, chats.html :)"
      ]
    },
    {
      "cell_type": "code",
      "execution_count": 6,
      "metadata": {
        "colab": {
          "base_uri": "https://localhost:8080/"
        },
        "id": "wRr5EpDRyDCW",
        "outputId": "6df1d758-1363-4824-8c18-62dd4986fd02"
      },
      "outputs": [
        {
          "output_type": "stream",
          "name": "stdout",
          "text": [
            " * Serving Flask app '__main__'\n",
            " * Debug mode: off\n"
          ]
        },
        {
          "output_type": "stream",
          "name": "stderr",
          "text": [
            "INFO:werkzeug:\u001b[31m\u001b[1mWARNING: This is a development server. Do not use it in a production deployment. Use a production WSGI server instead.\u001b[0m\n",
            " * Running on http://127.0.0.1:5000\n",
            "INFO:werkzeug:\u001b[33mPress CTRL+C to quit\u001b[0m\n",
            "INFO:werkzeug:127.0.0.1 - - [10/Mar/2024 19:57:52] \"GET / HTTP/1.1\" 200 -\n",
            "INFO:werkzeug:127.0.0.1 - - [10/Mar/2024 19:57:53] \"\u001b[33mGET /favicon.ico HTTP/1.1\u001b[0m\" 404 -\n"
          ]
        },
        {
          "output_type": "stream",
          "name": "stdout",
          "text": [
            "1/1 [==============================] - 1s 607ms/step\n"
          ]
        },
        {
          "output_type": "stream",
          "name": "stderr",
          "text": [
            "INFO:werkzeug:127.0.0.1 - - [10/Mar/2024 19:58:09] \"POST /get HTTP/1.1\" 200 -\n"
          ]
        },
        {
          "output_type": "stream",
          "name": "stdout",
          "text": [
            "[{'disease': 'Common Cold', 'probability': 58.572572469711304}]\n",
            "1/1 [==============================] - 0s 39ms/step\n"
          ]
        },
        {
          "output_type": "stream",
          "name": "stderr",
          "text": [
            "INFO:werkzeug:127.0.0.1 - - [10/Mar/2024 19:58:53] \"POST /get HTTP/1.1\" 200 -\n"
          ]
        },
        {
          "output_type": "stream",
          "name": "stdout",
          "text": [
            "[{'disease': 'Diabetes', 'probability': 43.86264085769653}]\n"
          ]
        }
      ],
      "source": [
        "from flask import Flask, render_template_string, request, jsonify\n",
        "\n",
        "\n",
        "app = Flask(__name__)\n",
        "\n",
        "html_file_path = '/content/drive/My Drive/chats.html'\n",
        "with open(html_file_path, 'r') as file:\n",
        "    html_content = file.read()\n",
        "\n",
        "# Define the route for rendering the HTML content\n",
        "@app.route('/')\n",
        "def index():\n",
        "    # Render the HTML content\n",
        "    return render_template_string(html_content)\n",
        "\n",
        "# Define the route for handling POST requests\n",
        "@app.route(\"/get\", methods=[\"POST\"])\n",
        "def chat():\n",
        "    # Process the message from the request\n",
        "    msg = request.form[\"msg\"]\n",
        "    predictions = predict_on_sentence(reconstructed_model, msg, category_reverse_mapping)\n",
        "    print(predictions)\n",
        "    return predictions\n",
        "\n",
        "# Run the Flask app\n",
        "if __name__ == \"__main__\":\n",
        "    app.run()\n"
      ]
    }
  ],
  "metadata": {
    "colab": {
      "provenance": [],
      "authorship_tag": "ABX9TyP6wmqvhGZTX8sd3hOCqZxy",
      "include_colab_link": true
    },
    "kernelspec": {
      "display_name": "Python 3",
      "name": "python3"
    },
    "language_info": {
      "name": "python"
    }
  },
  "nbformat": 4,
  "nbformat_minor": 0
}